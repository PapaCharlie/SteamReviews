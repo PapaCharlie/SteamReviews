{
 "cells": [
  {
   "cell_type": "code",
   "execution_count": 1,
   "metadata": {
    "collapsed": false
   },
   "outputs": [],
   "source": [
    "from __future__ import division, print_function\n",
    "\n",
    "import json\n",
    "import gc\n",
    "import gzip\n",
    "import numpy as np\n",
    "import os\n",
    "import string\n",
    "\n",
    "import matplotlib.pyplot as plt\n",
    "%matplotlib inline\n",
    "\n",
    "from collections import defaultdict\n",
    "from glob import iglob\n",
    "from IPython.display import display, HTML\n",
    "from operator import itemgetter\n",
    "from scipy.sparse.linalg import svds\n",
    "from sklearn.decomposition import LatentDirichletAllocation as LDA\n",
    "from sklearn.feature_extraction.text import CountVectorizer, TfidfVectorizer\n",
    "from sklearn.manifold import TSNE\n",
    "from sklearn.preprocessing import normalize"
   ]
  },
  {
   "cell_type": "code",
   "execution_count": 2,
   "metadata": {
    "collapsed": true
   },
   "outputs": [],
   "source": [
    "def load_reviews(min_reviews=100):\n",
    "    reviews = defaultdict(list)\n",
    "    for filename in iglob(\"data/reviews/*.json\"):\n",
    "        with open(filename) as f:\n",
    "            loaded = json.load(f)\n",
    "            if len(loaded) >= min_reviews:\n",
    "                for review in loaded:\n",
    "                    reviews[review[\"app_id\"]].append(review)\n",
    "    app_ids = np.array(sorted(reviews.keys()))\n",
    "    app_id_to_index = {app_id: i for i, app_id in enumerate(app_ids)}\n",
    "    corpus = [\" \".join(r[\"body\"] for r in reviews[app_id]) for app_id in app_ids]\n",
    "    del reviews\n",
    "    gc.collect()\n",
    "    return app_ids, app_id_to_index, corpus\n",
    "\n",
    "def load_reviews_gzip():\n",
    "    with gzip.open(\"data/filtered_reviews.gzip\", \"r\", 5) as f:\n",
    "        reviews = json.load(f)\n",
    "    app_ids = np.array(sorted(map(int, reviews.iterkeys())))\n",
    "    app_id_to_index = {app_id: i for i, app_id in enumerate(app_ids)}\n",
    "    corpus = [\" \".join(r[\"body\"] for r in reviews[str(app_id)]) \n",
    "              for app_id in app_ids]\n",
    "    del reviews\n",
    "    gc.collect()\n",
    "    return app_ids, app_id_to_index, corpus"
   ]
  },
  {
   "cell_type": "code",
   "execution_count": 3,
   "metadata": {
    "collapsed": false
   },
   "outputs": [],
   "source": [
    "app_ids, app_id_to_index, corpus = load_reviews_gzip()"
   ]
  },
  {
   "cell_type": "code",
   "execution_count": 4,
   "metadata": {
    "collapsed": false
   },
   "outputs": [
    {
     "ename": "KeyboardInterrupt",
     "evalue": "",
     "output_type": "error",
     "traceback": [
      "\u001b[0;31m---------------------------------------------------------------------------\u001b[0m",
      "\u001b[0;31mKeyboardInterrupt\u001b[0m                         Traceback (most recent call last)",
      "\u001b[0;32m<ipython-input-4-cf49bad42925>\u001b[0m in \u001b[0;36m<module>\u001b[0;34m()\u001b[0m\n\u001b[1;32m      5\u001b[0m                              max_features=6000)\n\u001b[1;32m      6\u001b[0m \u001b[1;33m\u001b[0m\u001b[0m\n\u001b[0;32m----> 7\u001b[0;31m \u001b[0mterm_doc_matrix\u001b[0m \u001b[1;33m=\u001b[0m \u001b[0mvectorizer\u001b[0m\u001b[1;33m.\u001b[0m\u001b[0mfit_transform\u001b[0m\u001b[1;33m(\u001b[0m\u001b[0mcorpus\u001b[0m\u001b[1;33m)\u001b[0m\u001b[1;33m\u001b[0m\u001b[0m\n\u001b[0m\u001b[1;32m      8\u001b[0m \u001b[1;32mprint\u001b[0m\u001b[1;33m(\u001b[0m\u001b[0mterm_doc_matrix\u001b[0m\u001b[1;33m.\u001b[0m\u001b[0mshape\u001b[0m\u001b[1;33m)\u001b[0m\u001b[1;33m\u001b[0m\u001b[0m\n",
      "\u001b[0;32mC:\\Program Files\\Anaconda2\\envs\\cs4300\\lib\\site-packages\\sklearn\\feature_extraction\\text.pyc\u001b[0m in \u001b[0;36mfit_transform\u001b[0;34m(self, raw_documents, y)\u001b[0m\n\u001b[1;32m    837\u001b[0m \u001b[1;33m\u001b[0m\u001b[0m\n\u001b[1;32m    838\u001b[0m         vocabulary, X = self._count_vocab(raw_documents,\n\u001b[0;32m--> 839\u001b[0;31m                                           self.fixed_vocabulary_)\n\u001b[0m\u001b[1;32m    840\u001b[0m \u001b[1;33m\u001b[0m\u001b[0m\n\u001b[1;32m    841\u001b[0m         \u001b[1;32mif\u001b[0m \u001b[0mself\u001b[0m\u001b[1;33m.\u001b[0m\u001b[0mbinary\u001b[0m\u001b[1;33m:\u001b[0m\u001b[1;33m\u001b[0m\u001b[0m\n",
      "\u001b[0;32mC:\\Program Files\\Anaconda2\\envs\\cs4300\\lib\\site-packages\\sklearn\\feature_extraction\\text.pyc\u001b[0m in \u001b[0;36m_count_vocab\u001b[0;34m(self, raw_documents, fixed_vocab)\u001b[0m\n\u001b[1;32m    760\u001b[0m         \u001b[1;32mfor\u001b[0m \u001b[0mdoc\u001b[0m \u001b[1;32min\u001b[0m \u001b[0mraw_documents\u001b[0m\u001b[1;33m:\u001b[0m\u001b[1;33m\u001b[0m\u001b[0m\n\u001b[1;32m    761\u001b[0m             \u001b[0mfeature_counter\u001b[0m \u001b[1;33m=\u001b[0m \u001b[1;33m{\u001b[0m\u001b[1;33m}\u001b[0m\u001b[1;33m\u001b[0m\u001b[0m\n\u001b[0;32m--> 762\u001b[0;31m             \u001b[1;32mfor\u001b[0m \u001b[0mfeature\u001b[0m \u001b[1;32min\u001b[0m \u001b[0manalyze\u001b[0m\u001b[1;33m(\u001b[0m\u001b[0mdoc\u001b[0m\u001b[1;33m)\u001b[0m\u001b[1;33m:\u001b[0m\u001b[1;33m\u001b[0m\u001b[0m\n\u001b[0m\u001b[1;32m    763\u001b[0m                 \u001b[1;32mtry\u001b[0m\u001b[1;33m:\u001b[0m\u001b[1;33m\u001b[0m\u001b[0m\n\u001b[1;32m    764\u001b[0m                     \u001b[0mfeature_idx\u001b[0m \u001b[1;33m=\u001b[0m \u001b[0mvocabulary\u001b[0m\u001b[1;33m[\u001b[0m\u001b[0mfeature\u001b[0m\u001b[1;33m]\u001b[0m\u001b[1;33m\u001b[0m\u001b[0m\n",
      "\u001b[0;32mC:\\Program Files\\Anaconda2\\envs\\cs4300\\lib\\site-packages\\sklearn\\feature_extraction\\text.pyc\u001b[0m in \u001b[0;36m<lambda>\u001b[0;34m(doc)\u001b[0m\n\u001b[1;32m    239\u001b[0m \u001b[1;33m\u001b[0m\u001b[0m\n\u001b[1;32m    240\u001b[0m             return lambda doc: self._word_ngrams(\n\u001b[0;32m--> 241\u001b[0;31m                 tokenize(preprocess(self.decode(doc))), stop_words)\n\u001b[0m\u001b[1;32m    242\u001b[0m \u001b[1;33m\u001b[0m\u001b[0m\n\u001b[1;32m    243\u001b[0m         \u001b[1;32melse\u001b[0m\u001b[1;33m:\u001b[0m\u001b[1;33m\u001b[0m\u001b[0m\n",
      "\u001b[0;32mC:\\Program Files\\Anaconda2\\envs\\cs4300\\lib\\site-packages\\sklearn\\feature_extraction\\text.pyc\u001b[0m in \u001b[0;36m_word_ngrams\u001b[0;34m(self, tokens, stop_words)\u001b[0m\n\u001b[1;32m    128\u001b[0m         \u001b[1;31m# handle stop words\u001b[0m\u001b[1;33m\u001b[0m\u001b[1;33m\u001b[0m\u001b[0m\n\u001b[1;32m    129\u001b[0m         \u001b[1;32mif\u001b[0m \u001b[0mstop_words\u001b[0m \u001b[1;32mis\u001b[0m \u001b[1;32mnot\u001b[0m \u001b[0mNone\u001b[0m\u001b[1;33m:\u001b[0m\u001b[1;33m\u001b[0m\u001b[0m\n\u001b[0;32m--> 130\u001b[0;31m             \u001b[0mtokens\u001b[0m \u001b[1;33m=\u001b[0m \u001b[1;33m[\u001b[0m\u001b[0mw\u001b[0m \u001b[1;32mfor\u001b[0m \u001b[0mw\u001b[0m \u001b[1;32min\u001b[0m \u001b[0mtokens\u001b[0m \u001b[1;32mif\u001b[0m \u001b[0mw\u001b[0m \u001b[1;32mnot\u001b[0m \u001b[1;32min\u001b[0m \u001b[0mstop_words\u001b[0m\u001b[1;33m]\u001b[0m\u001b[1;33m\u001b[0m\u001b[0m\n\u001b[0m\u001b[1;32m    131\u001b[0m \u001b[1;33m\u001b[0m\u001b[0m\n\u001b[1;32m    132\u001b[0m         \u001b[1;31m# handle token n-grams\u001b[0m\u001b[1;33m\u001b[0m\u001b[1;33m\u001b[0m\u001b[0m\n",
      "\u001b[0;31mKeyboardInterrupt\u001b[0m: "
     ]
    }
   ],
   "source": [
    "vectorizer = CountVectorizer(stop_words=\"english\",\n",
    "                             max_df=.9,\n",
    "                             min_df=10,\n",
    "                             ngram_range=(1,2),\n",
    "                             max_features=6000)\n",
    "\n",
    "term_doc_matrix = vectorizer.fit_transform(corpus)\n",
    "print(term_doc_matrix.shape)"
   ]
  },
  {
   "cell_type": "code",
   "execution_count": null,
   "metadata": {
    "collapsed": false
   },
   "outputs": [],
   "source": [
    "# We can use this graph to check how many dimensions we actually live in\n",
    "_, s, _ = svds(term_doc_matrix.T.astype(np.float), k=100)\n",
    "plt.plot(s[::-1]/s.max())\n",
    "plt.xlabel(\"Singular value number\")\n",
    "plt.ylabel(\"Singular value\")\n",
    "plt.show()"
   ]
  },
  {
   "cell_type": "code",
   "execution_count": 11,
   "metadata": {
    "collapsed": false
   },
   "outputs": [
    {
     "name": "stderr",
     "output_type": "stream",
     "text": [
      "C:\\Program Files\\Anaconda2\\envs\\cs4300\\lib\\site-packages\\sklearn\\decomposition\\online_lda.py:508: DeprecationWarning: The default value for 'learning_method' will be changed from 'online' to 'batch' in the release 0.20. This warning was introduced in 0.18.\n",
      "  DeprecationWarning)\n"
     ]
    }
   ],
   "source": [
    "n_topics = 20\n",
    "model = LDA(n_topics=n_topics, max_iter=10, n_jobs=4, verbose=1)\n",
    "res = model.fit_transform(term_doc_matrix)\n",
    "normalized_res = normalize(res)\n",
    "similarities = normalized_res.dot(normalized_res.T)"
   ]
  },
  {
   "cell_type": "code",
   "execution_count": 12,
   "metadata": {
    "collapsed": false
   },
   "outputs": [
    {
     "name": "stdout",
     "output_type": "stream",
     "text": [
      "[t-SNE] Computing pairwise distances...\n",
      "[t-SNE] Computing 91 nearest neighbors...\n",
      "[t-SNE] Computed conditional probabilities for sample 1000 / 2292\n",
      "[t-SNE] Computed conditional probabilities for sample 2000 / 2292\n",
      "[t-SNE] Computed conditional probabilities for sample 2292 / 2292\n",
      "[t-SNE] Mean sigma: 0.124595\n",
      "[t-SNE] KL divergence after 100 iterations with early exaggeration: 1.116406\n",
      "[t-SNE] Error after 325 iterations: 1.116406\n"
     ]
    }
   ],
   "source": [
    "tsne = TSNE(verbose=1)\n",
    "projected_docs = tsne.fit_transform(res)"
   ]
  },
  {
   "cell_type": "code",
   "execution_count": 18,
   "metadata": {
    "collapsed": false,
    "scrolled": false
   },
   "outputs": [
    {
     "name": "stdout",
     "output_type": "stream",
     "text": [
      "{u'Free to Play': 'b', u'Indie': 'y', u'Strategy': 'c', u'RPG': 'm', u'Action': 'g', u'Early Access': 'r'}\n"
     ]
    },
    {
     "data": {
      "image/png": "[encoded data removed]",
      "text/plain": [
       "<matplotlib.figure.Figure at 0xfe35f358>"
      ]
     },
     "metadata": {},
     "output_type": "display_data"
    }
   ],
   "source": [
    "color_index = [\"b\", \"g\", \"r\", \"c\", \"m\", \"y\"]\n",
    "with open(\"data/steamspy_games.json\") as f:\n",
    "    games = {int(app_id): game \n",
    "             for app_id, game in json.load(f).iteritems() \n",
    "             if int(app_id) in app_id_to_index}\n",
    "\n",
    "best_ranking_tags = defaultdict(int)\n",
    "for g in games.itervalues():\n",
    "    if len(g[\"tags\"]) > 0:\n",
    "        best_ranking_tags[max(g[\"tags\"].iteritems(), key=itemgetter(1))[0]] += 1\n",
    "tag_names, tag_scores = zip(*best_ranking_tags.iteritems())\n",
    "tag_names, tag_scores = np.array(tag_names), np.array(tag_scores)\n",
    "tag_names = tag_names[np.argsort(tag_scores)[:-len(color_index)-1:-1]]\n",
    "tag_to_color = {name: color for name, color in zip(tag_names, color_index)}\n",
    "print(tag_to_color)\n",
    "\n",
    "plt.figure(figsize=(15,15))\n",
    "# plt.scatter(projected_docs[:,0],projected_docs[:,1])\n",
    "for i, app_id in enumerate(app_ids):\n",
    "    if len(games[app_id][\"tags\"]) > 0:\n",
    "        best_tag = max(games[app_id][\"tags\"].iteritems(), key=itemgetter(1))[0]\n",
    "        plt.scatter(projected_docs[i,0], projected_docs[i, 1], color=tag_to_color.get(best_tag, \"k\"))\n",
    "plt.show()"
   ]
  },
  {
   "cell_type": "code",
   "execution_count": 73,
   "metadata": {
    "collapsed": true
   },
   "outputs": [],
   "source": [
    "def print_top_words(model, feature_names, n_top_words):\n",
    "    for topic_idx, topic in enumerate(model.components_):\n",
    "        print(\"Topic #%d:\" % topic_idx)\n",
    "        print(\" \".join([feature_names[i]\n",
    "                        for i in topic.argsort()[:-n_top_words - 1:-1]]))\n",
    "    print()\n",
    "\n",
    "def print_ranking(similarities, games, app_id, limit=10):\n",
    "    link = \"\"\"<a href=\"http://store.steampowered.com/app/%d\">%s</a>\"\"\"\n",
    "    print(\"Showing ranking for %s (%d)\"%(games[app_id][\"name\"], app_id))\n",
    "    index = app_id_to_index[app_id]\n",
    "    ranking = app_ids[np.argsort(similarities[index, :])][::-1]\n",
    "    for i in xrange(limit):\n",
    "        display(HTML(link%(ranking[i], games[ranking[i]][\"name\"])))\n",
    "\n",
    "def save_compressed_matrix(app_ids, \n",
    "                           compressed_matrix,\n",
    "                           filename=\"data/compressed_matrix.npy\"):\n",
    "    with open(filename, \"wb\") as f:\n",
    "        np.save(f, np.column_stack((app_ids, compressed_matrix)))\n",
    "    \n",
    "def load_compressed_matrix(filename=\"data/compressed_matrix.npy\"):\n",
    "    with open(filename, \"rb\") as f:\n",
    "        arr = np.load(f)\n",
    "    return arr[:, 0].astype(np.int), arr[:, 1:]"
   ]
  },
  {
   "cell_type": "code",
   "execution_count": 44,
   "metadata": {
    "collapsed": false
   },
   "outputs": [
    {
     "name": "stdout",
     "output_type": "stream",
     "text": [
      "Topic #0:\n",
      "cards card free play match server pvp pay win servers items skill\n",
      "Topic #1:\n",
      "car cars racing vr driving physics race drive tracks track\n",
      "Topic #2:\n",
      "half life simulator software dlc sim train program mod engine mods\n",
      "Topic #3:\n",
      "combat boss enemies fighting souls dark bosses controller sonic attack\n",
      "Topic #4:\n",
      "multiplayer maps fps weapons servers shooter guns cod gun server\n",
      "Topic #5:\n",
      "mmo combat quests ubisoft batman uplay creed quest assassin missions\n",
      "Topic #6:\n",
      "port fps crashes crash controller dlc windows gta console missions\n",
      "Topic #7:\n",
      "war total war battle campaign battles board warhammer multiplayer king ai\n",
      "Topic #8:\n",
      "weapons zombies enemies zombie shooter guns gun shoot weapon shooting\n",
      "Topic #9:\n",
      "tower defense tower defense mobile towers pop addictive upgrade clicker upgrades\n",
      "Topic #10:\n",
      "ship ships star wars lego planet john planets combat star wars\n",
      "Topic #11:\n",
      "stealth missions mission enemies ai ex deus deus ex enemy flight\n",
      "Topic #12:\n",
      "city ai strategy civ war management cities 4x dlc building\n",
      "Topic #13:\n",
      "dungeon items enemies click click monsters loot diablo rogue rpg boss\n",
      "Topic #14:\n",
      "units rts strategy campaign enemy ai unit tactical multiplayer xcom\n",
      "Topic #15:\n",
      "early access building survival alpha updates base crafting minecraft food dev\n",
      "Topic #16:\n",
      "doom fps nope nope nope duke quake dinosaurs modern weapons buy buy\n",
      "Topic #17:\n",
      "puzzles puzzle soundtrack adventure platformer puzzle game achievements indie solve point click\n",
      "Topic #18:\n",
      "rpg combat quests fantasy fallout quest battle rpgs dragon party\n",
      "Topic #19:\n",
      "horror ending voice atmosphere visual choices plot novel adventure acting\n",
      "\n"
     ]
    }
   ],
   "source": [
    "print_top_words(model, vectorizer.get_feature_names(), 10)"
   ]
  },
  {
   "cell_type": "code",
   "execution_count": 45,
   "metadata": {
    "collapsed": false
   },
   "outputs": [],
   "source": [
    "subnautica = 264710\n",
    "dark_souls = 211420\n",
    "golf_with_your_friends = 431240"
   ]
  },
  {
   "cell_type": "code",
   "execution_count": 46,
   "metadata": {
    "collapsed": false
   },
   "outputs": [
    {
     "name": "stdout",
     "output_type": "stream",
     "text": [
      "Showing ranking for Subnautica (264710)\n"
     ]
    },
    {
     "data": {
      "text/html": [
       "<a href=\"http://store.steampowered.com/app/264710\">Subnautica</a>"
      ],
      "text/plain": [
       "<IPython.core.display.HTML object>"
      ]
     },
     "metadata": {},
     "output_type": "display_data"
    },
    {
     "data": {
      "text/html": [
       "<a href=\"http://store.steampowered.com/app/305620\">The Long Dark</a>"
      ],
      "text/plain": [
       "<IPython.core.display.HTML object>"
      ]
     },
     "metadata": {},
     "output_type": "display_data"
    },
    {
     "data": {
      "text/html": [
       "<a href=\"http://store.steampowered.com/app/313120\">Stranded Deep</a>"
      ],
      "text/plain": [
       "<IPython.core.display.HTML object>"
      ]
     },
     "metadata": {},
     "output_type": "display_data"
    },
    {
     "data": {
      "text/html": [
       "<a href=\"http://store.steampowered.com/app/242760\">The Forest</a>"
      ],
      "text/plain": [
       "<IPython.core.display.HTML object>"
      ]
     },
     "metadata": {},
     "output_type": "display_data"
    },
    {
     "data": {
      "text/html": [
       "<a href=\"http://store.steampowered.com/app/227680\">StarForge</a>"
      ],
      "text/plain": [
       "<IPython.core.display.HTML object>"
      ]
     },
     "metadata": {},
     "output_type": "display_data"
    },
    {
     "data": {
      "text/html": [
       "<a href=\"http://store.steampowered.com/app/324080\">Rising World</a>"
      ],
      "text/plain": [
       "<IPython.core.display.HTML object>"
      ]
     },
     "metadata": {},
     "output_type": "display_data"
    },
    {
     "data": {
      "text/html": [
       "<a href=\"http://store.steampowered.com/app/257050\">Darkout</a>"
      ],
      "text/plain": [
       "<IPython.core.display.HTML object>"
      ]
     },
     "metadata": {},
     "output_type": "display_data"
    },
    {
     "data": {
      "text/html": [
       "<a href=\"http://store.steampowered.com/app/418030\">Subsistence</a>"
      ],
      "text/plain": [
       "<IPython.core.display.HTML object>"
      ]
     },
     "metadata": {},
     "output_type": "display_data"
    },
    {
     "data": {
      "text/html": [
       "<a href=\"http://store.steampowered.com/app/402710\">Osiris: New Dawn</a>"
      ],
      "text/plain": [
       "<IPython.core.display.HTML object>"
      ]
     },
     "metadata": {},
     "output_type": "display_data"
    },
    {
     "data": {
      "text/html": [
       "<a href=\"http://store.steampowered.com/app/246090\">Spacebase DF-9</a>"
      ],
      "text/plain": [
       "<IPython.core.display.HTML object>"
      ]
     },
     "metadata": {},
     "output_type": "display_data"
    },
    {
     "name": "stdout",
     "output_type": "stream",
     "text": [
      "Showing ranking for DARK SOULS™: Prepare To Die™ Edition (211420)\n"
     ]
    },
    {
     "data": {
      "text/html": [
       "<a href=\"http://store.steampowered.com/app/211420\">DARK SOULS™: Prepare To Die™ Edition</a>"
      ],
      "text/plain": [
       "<IPython.core.display.HTML object>"
      ]
     },
     "metadata": {},
     "output_type": "display_data"
    },
    {
     "data": {
      "text/html": [
       "<a href=\"http://store.steampowered.com/app/335300\">DARK SOULS™ II: Scholar of the First Sin</a>"
      ],
      "text/plain": [
       "<IPython.core.display.HTML object>"
      ]
     },
     "metadata": {},
     "output_type": "display_data"
    },
    {
     "data": {
      "text/html": [
       "<a href=\"http://store.steampowered.com/app/236430\">DARK SOULS™ II</a>"
      ],
      "text/plain": [
       "<IPython.core.display.HTML object>"
      ]
     },
     "metadata": {},
     "output_type": "display_data"
    },
    {
     "data": {
      "text/html": [
       "<a href=\"http://store.steampowered.com/app/7510\">X-Blades</a>"
      ],
      "text/plain": [
       "<IPython.core.display.HTML object>"
      ]
     },
     "metadata": {},
     "output_type": "display_data"
    },
    {
     "data": {
      "text/html": [
       "<a href=\"http://store.steampowered.com/app/283640\">Salt and Sanctuary</a>"
      ],
      "text/plain": [
       "<IPython.core.display.HTML object>"
      ]
     },
     "metadata": {},
     "output_type": "display_data"
    },
    {
     "data": {
      "text/html": [
       "<a href=\"http://store.steampowered.com/app/374320\">DARK SOULS™ III</a>"
      ],
      "text/plain": [
       "<IPython.core.display.HTML object>"
      ]
     },
     "metadata": {},
     "output_type": "display_data"
    },
    {
     "data": {
      "text/html": [
       "<a href=\"http://store.steampowered.com/app/252350\">Double Dragon: Neon</a>"
      ],
      "text/plain": [
       "<IPython.core.display.HTML object>"
      ]
     },
     "metadata": {},
     "output_type": "display_data"
    },
    {
     "data": {
      "text/html": [
       "<a href=\"http://store.steampowered.com/app/208750\">Apotheon</a>"
      ],
      "text/plain": [
       "<IPython.core.display.HTML object>"
      ]
     },
     "metadata": {},
     "output_type": "display_data"
    },
    {
     "data": {
      "text/html": [
       "<a href=\"http://store.steampowered.com/app/71340\">Sonic Generations Collection</a>"
      ],
      "text/plain": [
       "<IPython.core.display.HTML object>"
      ]
     },
     "metadata": {},
     "output_type": "display_data"
    },
    {
     "data": {
      "text/html": [
       "<a href=\"http://store.steampowered.com/app/234080\">Castlevania: Lords of Shadow – Ultimate Edition</a>"
      ],
      "text/plain": [
       "<IPython.core.display.HTML object>"
      ]
     },
     "metadata": {},
     "output_type": "display_data"
    },
    {
     "name": "stdout",
     "output_type": "stream",
     "text": [
      "Showing ranking for Golf With Your Friends (431240)\n"
     ]
    },
    {
     "data": {
      "text/html": [
       "<a href=\"http://store.steampowered.com/app/431240\">Golf With Your Friends</a>"
      ],
      "text/plain": [
       "<IPython.core.display.HTML object>"
      ]
     },
     "metadata": {},
     "output_type": "display_data"
    },
    {
     "data": {
      "text/html": [
       "<a href=\"http://store.steampowered.com/app/496240\">Onward</a>"
      ],
      "text/plain": [
       "<IPython.core.display.HTML object>"
      ]
     },
     "metadata": {},
     "output_type": "display_data"
    },
    {
     "data": {
      "text/html": [
       "<a href=\"http://store.steampowered.com/app/484870\">Battle Dome</a>"
      ],
      "text/plain": [
       "<IPython.core.display.HTML object>"
      ]
     },
     "metadata": {},
     "output_type": "display_data"
    },
    {
     "data": {
      "text/html": [
       "<a href=\"http://store.steampowered.com/app/263280\">SPINTIRES™</a>"
      ],
      "text/plain": [
       "<IPython.core.display.HTML object>"
      ]
     },
     "metadata": {},
     "output_type": "display_data"
    },
    {
     "data": {
      "text/html": [
       "<a href=\"http://store.steampowered.com/app/516750\">My Summer Car</a>"
      ],
      "text/plain": [
       "<IPython.core.display.HTML object>"
      ]
     },
     "metadata": {},
     "output_type": "display_data"
    },
    {
     "data": {
      "text/html": [
       "<a href=\"http://store.steampowered.com/app/272890\">Vertiginous Golf</a>"
      ],
      "text/plain": [
       "<IPython.core.display.HTML object>"
      ]
     },
     "metadata": {},
     "output_type": "display_data"
    },
    {
     "data": {
      "text/html": [
       "<a href=\"http://store.steampowered.com/app/289950\">Construction Simulator 2015</a>"
      ],
      "text/plain": [
       "<IPython.core.display.HTML object>"
      ]
     },
     "metadata": {},
     "output_type": "display_data"
    },
    {
     "data": {
      "text/html": [
       "<a href=\"http://store.steampowered.com/app/293760\">Automation - The Car Company Tycoon Game</a>"
      ],
      "text/plain": [
       "<IPython.core.display.HTML object>"
      ]
     },
     "metadata": {},
     "output_type": "display_data"
    },
    {
     "data": {
      "text/html": [
       "<a href=\"http://store.steampowered.com/app/446020\">Jalopy</a>"
      ],
      "text/plain": [
       "<IPython.core.display.HTML object>"
      ]
     },
     "metadata": {},
     "output_type": "display_data"
    },
    {
     "data": {
      "text/html": [
       "<a href=\"http://store.steampowered.com/app/318220\">Enforcer: Police Crime Action</a>"
      ],
      "text/plain": [
       "<IPython.core.display.HTML object>"
      ]
     },
     "metadata": {},
     "output_type": "display_data"
    }
   ],
   "source": [
    "print_ranking(similarities, games, subnautica)\n",
    "print_ranking(similarities, games, dark_souls)\n",
    "print_ranking(similarities, games, golf_with_your_friends)"
   ]
  },
  {
   "cell_type": "code",
   "execution_count": 74,
   "metadata": {
    "collapsed": false
   },
   "outputs": [],
   "source": [
    "save_compressed_matrix(app_ids, normalized_res)"
   ]
  },
  {
   "cell_type": "code",
   "execution_count": 76,
   "metadata": {
    "collapsed": false
   },
   "outputs": [],
   "source": [
    "loaded_app_ids, loaded_matrix = load_compressed_matrix()"
   ]
  }
 ],
 "metadata": {
  "anaconda-cloud": {},
  "kernelspec": {
   "display_name": "Python 2",
   "language": "python",
   "name": "python2"
  },
  "language_info": {
   "codemirror_mode": {
    "name": "ipython",
    "version": 2
   },
   "file_extension": ".py",
   "mimetype": "text/x-python",
   "name": "python",
   "nbconvert_exporter": "python",
   "pygments_lexer": "ipython2",
   "version": "2.7.12"
  }
 },
 "nbformat": 4,
 "nbformat_minor": 1
}
