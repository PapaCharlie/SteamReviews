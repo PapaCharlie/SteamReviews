{
 "cells": [
  {
   "cell_type": "code",
   "execution_count": 2,
   "metadata": {
    "collapsed": true
   },
   "outputs": [],
   "source": [
    "from __future__ import print_function, division\n",
    "%matplotlib inline\n",
    "\n",
    "import matplotlib.pyplot as plt\n",
    "from matplotlib.backends.backend_pdf import PdfPages\n",
    "\n",
    "import json\n",
    "import numpy as np\n",
    "import os"
   ]
  },
  {
   "cell_type": "code",
   "execution_count": 3,
   "metadata": {
    "collapsed": false
   },
   "outputs": [],
   "source": [
    "with open(os.path.join(\"reviews.json\")) as f:\n",
    "    reviews = json.load(f)"
   ]
  },
  {
   "cell_type": "code",
   "execution_count": 17,
   "metadata": {
    "collapsed": false
   },
   "outputs": [
    {
     "data": {
      "image/png": "[encoded data removed]",
      "text/plain": [
       "<matplotlib.figure.Figure at 0xc5659b0>"
      ]
     },
     "metadata": {},
     "output_type": "display_data"
    }
   ],
   "source": [
    "hours_played_v_helpfulness = list()\n",
    "for app in reviews:\n",
    "    for review in reviews[app]:\n",
    "        if review[\"total\"] > 0 and review[\"on_record\"] > 1:\n",
    "            hours_played_v_helpfulness.append((review[\"num_reviews\"], review[\"helpful\"] / review[\"total\"]))\n",
    "hours, helpfulness = np.array(hours_played_v_helpfulness).T\n",
    "\n",
    "_, bins = np.histogram(hours, bins=20)\n",
    "score = np.zeros(bins.shape)\n",
    "for i in xrange(len(bins) - 1):\n",
    "    score[i] = np.mean(helpfulness[np.logical_and(bins[i] <= hours, hours < bins[i+1])])\n",
    "score[-1] = np.mean(helpfulness[bins[-1] <= hours])\n",
    "\n",
    "with PdfPages('num_reviews_v_helpfulness.pdf') as pdf:\n",
    "    fig = plt.figure(figsize=(8,4))\n",
    "    plt.bar(bins, score, width=np.max(bins)/len(bins))\n",
    "    plt.xlabel(\"Number of reviews by user\")\n",
    "    plt.ylabel(\"% found helpful\")\n",
    "    pdf.savefig(fig)"
   ]
  },
  {
   "cell_type": "code",
   "execution_count": 18,
   "metadata": {
    "collapsed": false
   },
   "outputs": [
    {
     "data": {
      "image/png": "[encoded data removed]",
      "text/plain": [
       "<matplotlib.figure.Figure at 0xbd23518>"
      ]
     },
     "metadata": {},
     "output_type": "display_data"
    }
   ],
   "source": [
    "hours_played_v_helpfulness = list()\n",
    "for app in reviews:\n",
    "    for review in reviews[app]:\n",
    "        if review[\"total\"] > 0 and review[\"on_record\"] > 1:\n",
    "            hours_played_v_helpfulness.append((review[\"on_record\"], review[\"helpful\"] / review[\"total\"]))\n",
    "hours, helpfulness = np.array(hours_played_v_helpfulness).T\n",
    "\n",
    "_, bins = np.histogram(hours, bins=20)\n",
    "score = np.zeros(bins.shape)\n",
    "for i in xrange(len(bins) - 1):\n",
    "    score[i] = np.mean(helpfulness[np.logical_and(bins[i] <= hours, hours < bins[i+1])])\n",
    "score[-1] = np.mean(helpfulness[bins[-1] <= hours])\n",
    "\n",
    "with PdfPages('hours_played_v_helpfulness.pdf') as pdf:\n",
    "    plt.figure(figsize=(8,4))\n",
    "    plt.bar(bins, score, width=np.max(bins)/len(bins))\n",
    "    plt.xlabel(\"Hours played\")\n",
    "    plt.ylabel(\"% found helpful\")\n",
    "    pdf.savefig(fig)"
   ]
  },
  {
   "cell_type": "code",
   "execution_count": null,
   "metadata": {
    "collapsed": true
   },
   "outputs": [],
   "source": []
  }
 ],
 "metadata": {
  "anaconda-cloud": {},
  "kernelspec": {
   "display_name": "Python [conda env:cs4300]",
   "language": "python",
   "name": "conda-env-cs4300-py"
  },
  "language_info": {
   "codemirror_mode": {
    "name": "ipython",
    "version": 2
   },
   "file_extension": ".py",
   "mimetype": "text/x-python",
   "name": "python",
   "nbconvert_exporter": "python",
   "pygments_lexer": "ipython2",
   "version": "2.7.12"
  }
 },
 "nbformat": 4,
 "nbformat_minor": 1
}
